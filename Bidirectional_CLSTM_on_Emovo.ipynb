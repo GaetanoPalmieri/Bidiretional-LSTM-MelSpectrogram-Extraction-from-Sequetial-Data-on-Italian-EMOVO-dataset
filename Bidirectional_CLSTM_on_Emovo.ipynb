{
 "cells": [
  {
   "cell_type": "markdown",
   "metadata": {
    "pycharm": {
     "name": "#%% md\n"
    }
   },
   "source": [
    "# BIDIRECTIONAL CLSTM (vs LSTM)- EMOVO"
   ]
  },
  {
   "cell_type": "code",
   "execution_count": 1,
   "metadata": {
    "pycharm": {
     "name": "#%%\n"
    }
   },
   "outputs": [],
   "source": [
    "# Keras\n",
    "import keras\n",
    "from keras import regularizers\n",
    "from keras.preprocessing import sequence\n",
    "from keras.preprocessing.text import Tokenizer\n",
    "from keras.preprocessing.sequence import pad_sequences\n",
    "from keras.models import Sequential, Model, model_from_json\n",
    "from keras.layers import Dense, Embedding, LSTM\n",
    "from keras.layers import Input, Flatten, Dropout, Activation, BatchNormalization\n",
    "from keras.layers import Conv1D, MaxPooling1D, AveragePooling1D\n",
    "from keras.utils import np_utils\n",
    "from keras.layers import Layer\n",
    "\n",
    "from keras.callbacks import ModelCheckpoint\n",
    "from keras import initializers, regularizers, constraints, optimizers, layers\n",
    "from keras.callbacks import (EarlyStopping, LearningRateScheduler,\n",
    "                             ModelCheckpoint, TensorBoard, ReduceLROnPlateau)\n",
    "from keras import losses, models\n",
    "from keras.activations import relu, softmax\n",
    "from keras.layers import (Convolution2D, GlobalAveragePooling2D, BatchNormalization, Flatten, Dropout,\n",
    "                          GlobalMaxPool2D, MaxPool2D, concatenate, Activation, Input, Dense)\n",
    "\n",
    "\n",
    "\n",
    "# sklearn\n",
    "from sklearn.metrics import confusion_matrix, accuracy_score, classification_report\n",
    "from sklearn.preprocessing import LabelEncoder\n",
    "from sklearn.model_selection import train_test_split,cross_val_score,StratifiedKFold\n",
    "from sklearn.ensemble import AdaBoostClassifier\n",
    "from sklearn.metrics import accuracy_score,confusion_matrix\n",
    "from sklearn.tree import DecisionTreeClassifier\n",
    "from sklearn.svm import SVC\n",
    "from xgboost import XGBClassifier\n",
    "from sklearn.naive_bayes import GaussianNB\n",
    "from sklearn.ensemble import RandomForestClassifier\n",
    "from sklearn.tree import DecisionTreeClassifier\n",
    "from sklearn.neural_network import MLPClassifier\n",
    "from sklearn.neighbors import KNeighborsClassifier\n",
    "from sklearn.metrics import roc_curve\n",
    "from sklearn.decomposition import PCA\n",
    "from sklearn.preprocessing import StandardScaler,OneHotEncoder\n",
    "from sklearn import tree\n",
    "from sklearn.model_selection import GridSearchCV\n",
    "from sklearn.model_selection import cross_val_score\n",
    "from sklearn.model_selection import KFold\n",
    "from sklearn.ensemble import AdaBoostClassifier\n",
    "from sklearn.utils import shuffle\n",
    "from joblib import dump, load\n",
    "\n",
    "# Other  \n",
    "import librosa\n",
    "import librosa.display\n",
    "import json\n",
    "import numpy as np\n",
    "import matplotlib.pyplot as plt\n",
    "import tensorflow as tf\n",
    "from matplotlib.pyplot import specgram\n",
    "import pandas as pd\n",
    "import seaborn as sns\n",
    "import glob \n",
    "import os\n",
    "from tqdm import tqdm\n",
    "import pickle\n",
    "import wave  \n",
    "import warnings\n",
    "from pydub import AudioSegment\n",
    "from pydub.playback import play\n",
    "from tqdm import tqdm, tqdm_notebook; tqdm.pandas() # Progress bar\n",
    "\n"
   ]
  },
  {
   "cell_type": "markdown",
   "metadata": {
    "pycharm": {
     "name": "#%% md\n"
    }
   },
   "source": [
    "#### **1. Dataset Loading and Preparation**"
   ]
  },
  {
   "cell_type": "code",
   "execution_count": 3,
   "metadata": {
    "pycharm": {
     "name": "#%%\n"
    }
   },
   "outputs": [],
   "source": [
    "Emotion = {'dis' : 'Disgust', 'gio':'Happy', 'pau' : 'Fear', 'rab' : 'Anger' , 'tri':'Sad', 'sor':'Surprise', 'neu' : 'Neutral'}"
   ]
  },
  {
   "cell_type": "code",
   "execution_count": 4,
   "metadata": {
    "pycharm": {
     "name": "#%%\n"
    }
   },
   "outputs": [
    {
     "data": {
      "text/html": [
       "<div>\n",
       "<style scoped>\n",
       "    .dataframe tbody tr th:only-of-type {\n",
       "        vertical-align: middle;\n",
       "    }\n",
       "\n",
       "    .dataframe tbody tr th {\n",
       "        vertical-align: top;\n",
       "    }\n",
       "\n",
       "    .dataframe thead th {\n",
       "        text-align: right;\n",
       "    }\n",
       "</style>\n",
       "<table border=\"1\" class=\"dataframe\">\n",
       "  <thead>\n",
       "    <tr style=\"text-align: right;\">\n",
       "      <th></th>\n",
       "      <th>path</th>\n",
       "      <th>labels</th>\n",
       "    </tr>\n",
       "  </thead>\n",
       "  <tbody>\n",
       "  </tbody>\n",
       "</table>\n",
       "</div>"
      ],
      "text/plain": [
       "Empty DataFrame\n",
       "Columns: [path, labels]\n",
       "Index: []"
      ]
     },
     "execution_count": 4,
     "metadata": {},
     "output_type": "execute_result"
    }
   ],
   "source": [
    "data = {'path':[],\n",
    "        'labels':[]}\n",
    "EMOVO_df = pd.DataFrame(data)\n",
    "EMOVO_df"
   ]
  },
  {
   "cell_type": "code",
   "execution_count": 5,
   "metadata": {
    "pycharm": {
     "name": "#%%\n"
    }
   },
   "outputs": [],
   "source": [
    "EMOVO = '/Users/gaetanopalmieri/virtualenvs/Università/PROGETTO_SMA/DATASET/archive/EMOVO/'\n",
    "path_s = '/Users/gaetanopalmieri/virtualenvs/Università/PROGETTO_SMA/EMOVO/'\n",
    "\n",
    "for sub_directory in os.listdir(EMOVO):\n",
    "    direc = os.path.join(EMOVO,sub_directory)\n",
    "    if sub_directory == 'documents':\n",
    "        pass\n",
    "    elif sub_directory == '.DS_Store':\n",
    "        pass\n",
    "    else:\n",
    "        for file in os.listdir(direc):\n",
    "            if sub_directory == 'm1':\n",
    "                emotion = file.split('-')[0]\n",
    "                f = os.path.join(direc,file)\n",
    "                EMOVO_df.loc[len(EMOVO_df.index)] = [f, Emotion[emotion]]\n",
    "            elif sub_directory == 'm2':\n",
    "                emotion = file.split('-')[0]\n",
    "                f = os.path.join(direc,file)\n",
    "                EMOVO_df.loc[len(EMOVO_df.index)] = [f, Emotion[emotion]]\n",
    "            elif sub_directory == 'm3':\n",
    "                emotion = file.split('-')[0]\n",
    "                f = os.path.join(direc,file)\n",
    "                EMOVO_df.loc[len(EMOVO_df.index)] = [f, Emotion[emotion]]\n",
    "            else:\n",
    "                emotion = file.split('-')[0]\n",
    "                f = os.path.join(direc,file)\n",
    "                EMOVO_df.loc[len(EMOVO_df.index)] = [f, Emotion[emotion]]"
   ]
  },
  {
   "cell_type": "code",
   "execution_count": 6,
   "metadata": {
    "pycharm": {
     "name": "#%%\n"
    }
   },
   "outputs": [
    {
     "data": {
      "text/html": [
       "<div>\n",
       "<style scoped>\n",
       "    .dataframe tbody tr th:only-of-type {\n",
       "        vertical-align: middle;\n",
       "    }\n",
       "\n",
       "    .dataframe tbody tr th {\n",
       "        vertical-align: top;\n",
       "    }\n",
       "\n",
       "    .dataframe thead th {\n",
       "        text-align: right;\n",
       "    }\n",
       "</style>\n",
       "<table border=\"1\" class=\"dataframe\">\n",
       "  <thead>\n",
       "    <tr style=\"text-align: right;\">\n",
       "      <th></th>\n",
       "      <th>path</th>\n",
       "      <th>labels</th>\n",
       "    </tr>\n",
       "  </thead>\n",
       "  <tbody>\n",
       "    <tr>\n",
       "      <th>0</th>\n",
       "      <td>/Users/gaetanopalmieri/virtualenvs/Università/...</td>\n",
       "      <td>Anger</td>\n",
       "    </tr>\n",
       "    <tr>\n",
       "      <th>1</th>\n",
       "      <td>/Users/gaetanopalmieri/virtualenvs/Università/...</td>\n",
       "      <td>Disgust</td>\n",
       "    </tr>\n",
       "    <tr>\n",
       "      <th>2</th>\n",
       "      <td>/Users/gaetanopalmieri/virtualenvs/Università/...</td>\n",
       "      <td>Anger</td>\n",
       "    </tr>\n",
       "    <tr>\n",
       "      <th>3</th>\n",
       "      <td>/Users/gaetanopalmieri/virtualenvs/Università/...</td>\n",
       "      <td>Anger</td>\n",
       "    </tr>\n",
       "    <tr>\n",
       "      <th>4</th>\n",
       "      <td>/Users/gaetanopalmieri/virtualenvs/Università/...</td>\n",
       "      <td>Disgust</td>\n",
       "    </tr>\n",
       "    <tr>\n",
       "      <th>...</th>\n",
       "      <td>...</td>\n",
       "      <td>...</td>\n",
       "    </tr>\n",
       "    <tr>\n",
       "      <th>583</th>\n",
       "      <td>/Users/gaetanopalmieri/virtualenvs/Università/...</td>\n",
       "      <td>Happy</td>\n",
       "    </tr>\n",
       "    <tr>\n",
       "      <th>584</th>\n",
       "      <td>/Users/gaetanopalmieri/virtualenvs/Università/...</td>\n",
       "      <td>Fear</td>\n",
       "    </tr>\n",
       "    <tr>\n",
       "      <th>585</th>\n",
       "      <td>/Users/gaetanopalmieri/virtualenvs/Università/...</td>\n",
       "      <td>Happy</td>\n",
       "    </tr>\n",
       "    <tr>\n",
       "      <th>586</th>\n",
       "      <td>/Users/gaetanopalmieri/virtualenvs/Università/...</td>\n",
       "      <td>Anger</td>\n",
       "    </tr>\n",
       "    <tr>\n",
       "      <th>587</th>\n",
       "      <td>/Users/gaetanopalmieri/virtualenvs/Università/...</td>\n",
       "      <td>Disgust</td>\n",
       "    </tr>\n",
       "  </tbody>\n",
       "</table>\n",
       "<p>588 rows × 2 columns</p>\n",
       "</div>"
      ],
      "text/plain": [
       "                                                  path   labels\n",
       "0    /Users/gaetanopalmieri/virtualenvs/Università/...    Anger\n",
       "1    /Users/gaetanopalmieri/virtualenvs/Università/...  Disgust\n",
       "2    /Users/gaetanopalmieri/virtualenvs/Università/...    Anger\n",
       "3    /Users/gaetanopalmieri/virtualenvs/Università/...    Anger\n",
       "4    /Users/gaetanopalmieri/virtualenvs/Università/...  Disgust\n",
       "..                                                 ...      ...\n",
       "583  /Users/gaetanopalmieri/virtualenvs/Università/...    Happy\n",
       "584  /Users/gaetanopalmieri/virtualenvs/Università/...     Fear\n",
       "585  /Users/gaetanopalmieri/virtualenvs/Università/...    Happy\n",
       "586  /Users/gaetanopalmieri/virtualenvs/Università/...    Anger\n",
       "587  /Users/gaetanopalmieri/virtualenvs/Università/...  Disgust\n",
       "\n",
       "[588 rows x 2 columns]"
      ]
     },
     "execution_count": 6,
     "metadata": {},
     "output_type": "execute_result"
    }
   ],
   "source": [
    "EMOVO_df"
   ]
  },
  {
   "cell_type": "code",
   "execution_count": 7,
   "metadata": {
    "pycharm": {
     "name": "#%%\n"
    }
   },
   "outputs": [
    {
     "name": "stdout",
     "output_type": "stream",
     "text": [
      "Il numero dei samples è : 588   -  Il numero delle classi è : 7\n"
     ]
    }
   ],
   "source": [
    "print(\"Il numero dei samples è :\", EMOVO_df.shape[0], \"  -  Il numero delle classi è :\", len(EMOVO_df.labels.unique()))"
   ]
  },
  {
   "cell_type": "code",
   "execution_count": 8,
   "metadata": {
    "pycharm": {
     "name": "#%%\n"
    }
   },
   "outputs": [
    {
     "data": {
      "text/plain": [
       "Anger       84\n",
       "Disgust     84\n",
       "Surprise    84\n",
       "Fear        84\n",
       "Happy       84\n",
       "Neutral     84\n",
       "Sad         84\n",
       "Name: labels, dtype: int64"
      ]
     },
     "execution_count": 8,
     "metadata": {},
     "output_type": "execute_result"
    }
   ],
   "source": [
    "NEMOVO = EMOVO_df.labels.value_counts()\n",
    "NEMOVO"
   ]
  },
  {
   "cell_type": "markdown",
   "metadata": {
    "pycharm": {
     "name": "#%% md\n"
    }
   },
   "source": [
    "### **1. LSTM**"
   ]
  },
  {
   "cell_type": "code",
   "execution_count": null,
   "metadata": {
    "collapsed": false,
    "pycharm": {
     "name": "#%%\n"
    }
   },
   "outputs": [],
   "source": [
    "def extract_features(y,sr):\n",
    "\n",
    "    '''\n",
    "        >   chromagram\n",
    "        >   root mean square error\n",
    "        >   spectrel centroid\n",
    "        >   spectral flatness\n",
    "        >   spectral bandwidth\n",
    "        >   spectral roll-off\n",
    "        >   zero crossing rate\n",
    "        >   mel-frequency cepstral coefficients (MFCCs)\n",
    "    '''\n",
    "\n",
    "    result = np.array([])\n",
    "\n",
    "    chroma_stft = librosa.feature.chroma_stft(y=y, sr=sr)\n",
    "    rmse = librosa.feature.rms(y=y)\n",
    "    spec_cent = librosa.feature.spectral_centroid(y=y, sr=sr)\n",
    "    flatness = librosa.feature.spectral_flatness(y=y)\n",
    "    spec_bw = librosa.feature.spectral_bandwidth(y=y, sr=sr)\n",
    "    rolloff = librosa.feature.spectral_rolloff(y=y, sr=sr)\n",
    "    zcr = librosa.feature.zero_crossing_rate(y)\n",
    "    mfcc = librosa.feature.mfcc(y=y, sr=sr, n_mfcc=30)\n",
    "\n",
    "    result = np.hstack((np.mean(chroma_stft,axis=1), np.mean(rmse), np.mean(spec_cent),\n",
    "                        np.mean(flatness), np.mean(spec_bw), np.mean(rolloff),\n",
    "                        np.mean(zcr), np.mean(mfcc, axis=1)))\n",
    "\n",
    "    return result\n",
    "\n",
    "\n",
    "def get_features(path, noise: bool, stretch_pitch: bool, shift: bool):\n",
    "\n",
    "    y, sr = librosa.load(path, sr=48000)\n",
    "\n",
    "    # feature extraction without augmentation\n",
    "    res1 = extract_features(y,sr)\n",
    "    result = np.array(res1)\n",
    "\n",
    "    # data con noise\n",
    "    if (noise==True):\n",
    "        noise_data = Noise(y)\n",
    "        res2 = extract_features(noise_data, sr)\n",
    "        result = np.vstack((result, res2)) # stacking v\n",
    "\n",
    "    # data con stretching and pitching\n",
    "    if (stretch_pitch==True):\n",
    "        new_data = Stretch(y)\n",
    "        data_stretch_pitch = Pitch(new_data, sr)\n",
    "        res3 = extract_features(data_stretch_pitch, sr)\n",
    "        result = np.vstack((result, res3)) # stacking v\n",
    "\n",
    "    # data con shift\n",
    "    if (shift==True):\n",
    "        shift_data = Stretch(y)\n",
    "        res4 = extract_features(shift_data, sr)\n",
    "        result = np.vstack((result, res4)) # stacking v\n",
    "\n",
    "    return result\n",
    "\n",
    "def store_features(audio_path: pd.core.frame.DataFrame, emotion: pd.core.frame.DataFrame,\n",
    "                   noise: bool=False, stretch_pitch: bool=False, shift: bool=False):\n",
    "\n",
    "    X, Y = [], []\n",
    "    for path, emotion in zip(audio_path, emotion):\n",
    "        # extracting features\n",
    "        features = get_features(path, noise, stretch_pitch, shift)\n",
    "        # storing the results and the corresponding emotion\n",
    "        for ele in features:\n",
    "            X.append(ele)\n",
    "            Y.append(emotion)\n",
    "\n",
    "    # Store results as DataFrame\n",
    "    features_df = pd.DataFrame(X)\n",
    "    features_df['labels'] = Y\n",
    "\n",
    "    return features_df\n",
    "\n",
    "def data_preparation(data: pd.core.frame.DataFrame, Y_col: int=-1,\n",
    "                    standard_scaler: bool=True, one_hot_encoding: bool=False,\n",
    "                    train_test: bool=True, split_rate: float=0.8,\n",
    "                    cv: bool=False, n_fold: int=5,\n",
    "                    shuffle: bool=True):\n",
    "\n",
    "                    '''\n",
    "\n",
    "                    Parameters:\n",
    "                    > data: data come DataFrame\n",
    "                    > Y_col: column index number of labels (default is -1)\n",
    "                    > StandardScaler: if True (default) data has to be standardized through the StandardScaler\n",
    "                    > OneHotEncoder: if True (default is False) labels have to be one-hot-encoded\n",
    "                    > train_test: if True (default) the dataset has to be split in train and test set\n",
    "                    > test_size: it determines the size of the train test with respect to the whole dataset (default is 0.8)\n",
    "                    > cv: if True (default is False) K-Folds cross-validator object is created\n",
    "                    > n_fold: number of splitting iterations in the cross-validator\n",
    "                    > shuffle: Whether to shuffle the data during train_test_split and cross_validation (default is True)\n",
    "                    '''\n",
    "\n",
    "                    Y = data.iloc[:,Y_col].values\n",
    "                    X = data.iloc[: ,:-1].values\n",
    "                    kf = None\n",
    "                    encoder = None\n",
    "\n",
    "                    if standard_scaler==True:\n",
    "                        scaler = StandardScaler()\n",
    "                        X = scaler.fit_transform(X)\n",
    "\n",
    "                    if one_hot_encoding==True:\n",
    "                        encoder = OneHotEncoder()\n",
    "                        Y = encoder.fit_transform(np.array(Y).reshape(-1,1)).toarray()\n",
    "                        dump(encoder, 'encoder.joblib')\n",
    "\n",
    "                    if train_test==True:\n",
    "                        x_train, x_test, y_train, y_test = train_test_split(X, Y, random_state=0,\n",
    "                                                                            shuffle = shuffle,\n",
    "                                                                            train_size = split_rate)\n",
    "                        if cv==True:\n",
    "                            kf = KFold(n_splits=n_fold, shuffle=shuffle, random_state=None)\n",
    "\n",
    "                        pd.DataFrame(x_train).to_csv('x_train.csv', index=False)\n",
    "                        pd.DataFrame(y_train).to_csv('y_train.csv', index=False)\n",
    "                        pd.DataFrame(x_test).to_csv('x_test.csv', index=False)\n",
    "                        pd.DataFrame(y_test).to_csv('y_test.csv', index=False)\n",
    "                        return x_train, x_test, y_train, y_test, kf\n",
    "                    else:\n",
    "                        if cv==True:\n",
    "                            kf = KFold(n_splits=n_fold, shuffle=shuffle, random_state=None)\n",
    "\n",
    "                        X.to_csv('X.csv', index=False)\n",
    "                        Y.to_csv('Y.csv', index=False)\n",
    "                        return X, Y, kf\n",
    "\n",
    "def label_manager(data: pd.core.frame.DataFrame, Y_col: int=-1,\n",
    "                 delate: list=[], rename: dict={}):\n",
    "    '''Managing labels of a DataFrame.\n",
    "    Parameters:\n",
    "    > data: data as DataFrame\n",
    "    > Y_col: column index number of labels (default is -1)\n",
    "    > delate: list of labels to be removed\n",
    "    > rename: dictionary of labels to be replaced with new names\n",
    "    '''\n",
    "\n",
    "    # Select labels\n",
    "    Y = data.iloc[:,Y_col]\n",
    "\n",
    "    # Delate rows with unwanted labels\n",
    "    if len(delate)!=0 :\n",
    "        for label_del in delate:\n",
    "            data = data[Y!=label_del]\n",
    "\n",
    "    # Rename labels according to the dictionary passed as parameter\n",
    "    if len(rename)!=0:\n",
    "        data.labels.replace(rename, inplace=True)\n",
    "\n",
    "    return data\n"
   ]
  },
  {
   "cell_type": "code",
   "execution_count": 33,
   "metadata": {
    "pycharm": {
     "name": "#%%\n"
    }
   },
   "outputs": [],
   "source": [
    "from lstm import LSTMClassif\n",
    "\n",
    "def cross_validation(X, Y, kf):\n",
    "    acc_per_fold =[]\n",
    "    loss_per_fold =[]\n",
    "    fold=1\n",
    "    for train_idx, val_idx in kf.split(X,Y):\n",
    "        classifier = LSTMClassif(n_class=Y.shape[1], input_shape=(X[train_idx].shape[1], 1))\n",
    "        classifier.build()\n",
    "        classifier.fit(X=X[train_idx], Y=Y[train_idx],\n",
    "                        val_data=(X[val_idx], Y[val_idx]), epochs=100,\n",
    "                        callbacks=True)\n",
    "        scores = classifier.eval(X=X[val_idx], Y=Y[val_idx])\n",
    "        print(f'Score for fold {fold}:\\\n",
    "            {classifier.model.metrics_names[0]} of {scores[0]};\\\n",
    "            {classifier.model.metrics_names[1]} of {scores[1]*100}%')\n",
    "        acc_per_fold.append(scores[1] * 100)\n",
    "        loss_per_fold.append(scores[0])\n",
    "        fold = fold + 1\n",
    "    acc = np.mean(acc_per_fold)\n",
    "    loss = np.mean(loss_per_fold)\n",
    "    print('Accuracy of Model with ({}-Fold) Cross Validation is: {:.2f} %'.format(kf.n_splits,acc))\n",
    "    print('Loss of Model with ({}-Fold) Cross Validation is: {:.4f}'.format(kf.n_splits,loss))\n",
    "    classifier.save(path ='', name='trained_model')\n"
   ]
  },
  {
   "cell_type": "code",
   "execution_count": 34,
   "metadata": {
    "pycharm": {
     "name": "#%%\n"
    }
   },
   "outputs": [
    {
     "name": "stdout",
     "output_type": "stream",
     "text": [
      "Epoch 1/100\n",
      "34/34 [==============================] - 14s 297ms/step - loss: 2.2540 - accuracy: 0.1361 - val_loss: 1.9583 - val_accuracy: 0.1774\n",
      "Epoch 2/100\n",
      "34/34 [==============================] - 10s 282ms/step - loss: 1.9554 - accuracy: 0.1749 - val_loss: 1.9307 - val_accuracy: 0.2113\n",
      "Epoch 3/100\n",
      "34/34 [==============================] - 9s 276ms/step - loss: 1.9473 - accuracy: 0.1626 - val_loss: 1.9292 - val_accuracy: 0.2189\n",
      "Epoch 4/100\n",
      "34/34 [==============================] - 11s 318ms/step - loss: 1.9453 - accuracy: 0.1673 - val_loss: 1.9892 - val_accuracy: 0.1208\n",
      "Epoch 5/100\n",
      "34/34 [==============================] - 12s 338ms/step - loss: 1.9353 - accuracy: 0.1767 - val_loss: 1.9226 - val_accuracy: 0.1811\n",
      "Epoch 6/100\n",
      "34/34 [==============================] - 11s 331ms/step - loss: 1.9064 - accuracy: 0.2136 - val_loss: 1.8732 - val_accuracy: 0.2528\n",
      "Epoch 7/100\n",
      "34/34 [==============================] - 11s 323ms/step - loss: 1.8764 - accuracy: 0.1966 - val_loss: 1.8236 - val_accuracy: 0.2415\n",
      "Epoch 8/100\n",
      "34/34 [==============================] - 11s 312ms/step - loss: 1.8367 - accuracy: 0.2401 - val_loss: 1.8468 - val_accuracy: 0.2151\n",
      "Epoch 9/100\n",
      "34/34 [==============================] - 11s 325ms/step - loss: 1.8008 - accuracy: 0.2382 - val_loss: 1.8196 - val_accuracy: 0.2528\n",
      "Epoch 10/100\n",
      "34/34 [==============================] - 9s 273ms/step - loss: 1.7798 - accuracy: 0.2675 - val_loss: 1.7825 - val_accuracy: 0.2566\n",
      "Epoch 11/100\n",
      "34/34 [==============================] - 9s 272ms/step - loss: 1.7567 - accuracy: 0.2760 - val_loss: 1.7110 - val_accuracy: 0.3057\n",
      "Epoch 12/100\n",
      "34/34 [==============================] - 9s 275ms/step - loss: 1.7292 - accuracy: 0.2911 - val_loss: 1.6871 - val_accuracy: 0.2981\n",
      "Epoch 13/100\n",
      "34/34 [==============================] - 9s 276ms/step - loss: 1.7116 - accuracy: 0.3025 - val_loss: 1.7156 - val_accuracy: 0.2943\n",
      "Epoch 14/100\n",
      "34/34 [==============================] - 10s 283ms/step - loss: 1.6806 - accuracy: 0.3147 - val_loss: 1.8315 - val_accuracy: 0.2528\n",
      "Epoch 15/100\n",
      "34/34 [==============================] - 12s 363ms/step - loss: 1.6867 - accuracy: 0.2892 - val_loss: 1.7012 - val_accuracy: 0.2868\n",
      "Epoch 16/100\n",
      "34/34 [==============================] - 11s 324ms/step - loss: 1.6184 - accuracy: 0.3336 - val_loss: 1.6865 - val_accuracy: 0.3623\n",
      "Epoch 17/100\n",
      "34/34 [==============================] - 10s 307ms/step - loss: 1.5989 - accuracy: 0.3450 - val_loss: 1.6834 - val_accuracy: 0.3283\n",
      "Epoch 18/100\n",
      "34/34 [==============================] - 11s 320ms/step - loss: 1.5986 - accuracy: 0.3516 - val_loss: 1.6568 - val_accuracy: 0.3434\n",
      "Epoch 19/100\n",
      "34/34 [==============================] - 11s 333ms/step - loss: 1.5212 - accuracy: 0.3970 - val_loss: 1.6751 - val_accuracy: 0.3132\n",
      "Epoch 20/100\n",
      "34/34 [==============================] - 11s 327ms/step - loss: 1.4783 - accuracy: 0.4112 - val_loss: 1.6328 - val_accuracy: 0.3698\n",
      "Epoch 21/100\n",
      "34/34 [==============================] - 11s 315ms/step - loss: 1.4708 - accuracy: 0.4130 - val_loss: 1.5190 - val_accuracy: 0.4075\n",
      "Epoch 22/100\n",
      "34/34 [==============================] - 11s 319ms/step - loss: 1.4023 - accuracy: 0.4442 - val_loss: 1.7777 - val_accuracy: 0.3736\n",
      "Epoch 23/100\n",
      "34/34 [==============================] - 10s 283ms/step - loss: 1.4627 - accuracy: 0.4263 - val_loss: 1.6349 - val_accuracy: 0.3509\n",
      "Epoch 24/100\n",
      "34/34 [==============================] - 10s 294ms/step - loss: 1.4937 - accuracy: 0.3970 - val_loss: 1.7752 - val_accuracy: 0.2679\n",
      "Epoch 25/100\n",
      "34/34 [==============================] - 11s 333ms/step - loss: 1.5555 - accuracy: 0.3648 - val_loss: 1.6408 - val_accuracy: 0.3283\n",
      "Epoch 26/100\n",
      "34/34 [==============================] - 12s 348ms/step - loss: 1.4311 - accuracy: 0.4291 - val_loss: 1.5930 - val_accuracy: 0.3057\n",
      "Epoch 27/100\n",
      "34/34 [==============================] - 12s 352ms/step - loss: 1.3848 - accuracy: 0.4433 - val_loss: 1.3851 - val_accuracy: 0.4491\n",
      "Epoch 28/100\n",
      "34/34 [==============================] - 10s 309ms/step - loss: 1.2968 - accuracy: 0.4783 - val_loss: 1.4572 - val_accuracy: 0.4113\n",
      "Epoch 29/100\n",
      "34/34 [==============================] - 10s 286ms/step - loss: 1.2853 - accuracy: 0.4896 - val_loss: 1.4715 - val_accuracy: 0.4264\n",
      "Epoch 30/100\n",
      "34/34 [==============================] - 10s 301ms/step - loss: 1.2725 - accuracy: 0.5009 - val_loss: 1.3793 - val_accuracy: 0.4679\n",
      "Epoch 31/100\n",
      "34/34 [==============================] - 10s 290ms/step - loss: 1.1795 - accuracy: 0.5520 - val_loss: 1.3806 - val_accuracy: 0.4981\n",
      "Epoch 32/100\n",
      "34/34 [==============================] - 10s 305ms/step - loss: 1.0532 - accuracy: 0.5964 - val_loss: 1.3399 - val_accuracy: 0.4679\n",
      "Epoch 33/100\n",
      "34/34 [==============================] - 10s 287ms/step - loss: 0.9833 - accuracy: 0.6257 - val_loss: 1.3640 - val_accuracy: 0.4566\n",
      "Epoch 34/100\n",
      "34/34 [==============================] - 9s 276ms/step - loss: 0.9922 - accuracy: 0.6021 - val_loss: 1.4002 - val_accuracy: 0.4717\n",
      "Epoch 35/100\n",
      "34/34 [==============================] - 10s 293ms/step - loss: 0.9945 - accuracy: 0.6257 - val_loss: 1.3164 - val_accuracy: 0.5208\n",
      "Epoch 36/100\n",
      "34/34 [==============================] - 10s 295ms/step - loss: 0.8559 - accuracy: 0.6739 - val_loss: 1.3835 - val_accuracy: 0.4717\n",
      "Epoch 37/100\n",
      "34/34 [==============================] - 10s 301ms/step - loss: 0.8604 - accuracy: 0.6531 - val_loss: 1.4420 - val_accuracy: 0.5019\n",
      "Epoch 38/100\n",
      "34/34 [==============================] - 10s 308ms/step - loss: 0.8063 - accuracy: 0.6928 - val_loss: 1.2104 - val_accuracy: 0.5849\n",
      "Epoch 39/100\n",
      "34/34 [==============================] - 10s 300ms/step - loss: 0.6204 - accuracy: 0.7675 - val_loss: 1.3422 - val_accuracy: 0.5623\n",
      "Epoch 40/100\n",
      "34/34 [==============================] - 9s 272ms/step - loss: 0.6143 - accuracy: 0.7713 - val_loss: 1.2270 - val_accuracy: 0.5774\n",
      "Epoch 41/100\n",
      "34/34 [==============================] - 9s 270ms/step - loss: 0.5176 - accuracy: 0.8072 - val_loss: 1.1465 - val_accuracy: 0.6491\n",
      "Epoch 42/100\n",
      "34/34 [==============================] - 9s 270ms/step - loss: 0.4719 - accuracy: 0.8318 - val_loss: 1.3073 - val_accuracy: 0.5849\n",
      "Epoch 43/100\n",
      "34/34 [==============================] - 9s 269ms/step - loss: 0.4797 - accuracy: 0.8270 - val_loss: 1.2439 - val_accuracy: 0.6377\n",
      "Epoch 44/100\n",
      "34/34 [==============================] - 9s 269ms/step - loss: 0.3367 - accuracy: 0.8828 - val_loss: 1.3669 - val_accuracy: 0.6226\n",
      "Epoch 45/100\n",
      "34/34 [==============================] - 9s 269ms/step - loss: 0.4433 - accuracy: 0.8355 - val_loss: 1.6494 - val_accuracy: 0.5321\n",
      "Epoch 46/100\n",
      "34/34 [==============================] - 9s 270ms/step - loss: 0.3610 - accuracy: 0.8724 - val_loss: 1.1990 - val_accuracy: 0.6377\n",
      "Epoch 47/100\n",
      "34/34 [==============================] - 9s 268ms/step - loss: 0.2590 - accuracy: 0.9055 - val_loss: 1.4486 - val_accuracy: 0.6113\n",
      "Epoch 48/100\n",
      "34/34 [==============================] - 9s 268ms/step - loss: 0.3202 - accuracy: 0.8866 - val_loss: 1.2617 - val_accuracy: 0.6189\n",
      "Epoch 49/100\n",
      "34/34 [==============================] - 9s 269ms/step - loss: 0.2461 - accuracy: 0.9197 - val_loss: 1.2498 - val_accuracy: 0.6528\n",
      "Epoch 50/100\n",
      "34/34 [==============================] - 9s 269ms/step - loss: 0.2086 - accuracy: 0.9253 - val_loss: 1.3477 - val_accuracy: 0.6377\n",
      "Epoch 51/100\n",
      "34/34 [==============================] - 10s 280ms/step - loss: 0.1600 - accuracy: 0.9499 - val_loss: 1.3080 - val_accuracy: 0.6566\n",
      "Score for fold 1:            loss of 1.1464526653289795;            accuracy of 64.9056613445282%\n",
      "Epoch 1/100\n",
      "34/34 [==============================] - 13s 304ms/step - loss: 2.4786 - accuracy: 0.1749 - val_loss: 2.0230 - val_accuracy: 0.1434\n",
      "Epoch 2/100\n",
      "34/34 [==============================] - 10s 281ms/step - loss: 1.9691 - accuracy: 0.1843 - val_loss: 1.9573 - val_accuracy: 0.1698\n",
      "Epoch 3/100\n",
      "34/34 [==============================] - 10s 294ms/step - loss: 1.9457 - accuracy: 0.1664 - val_loss: 1.9550 - val_accuracy: 0.1321\n",
      "Epoch 4/100\n",
      "34/34 [==============================] - 10s 289ms/step - loss: 1.9310 - accuracy: 0.1862 - val_loss: 1.9506 - val_accuracy: 0.1321\n",
      "Epoch 5/100\n",
      "34/34 [==============================] - 10s 285ms/step - loss: 1.9216 - accuracy: 0.1786 - val_loss: 1.9384 - val_accuracy: 0.1811\n",
      "Epoch 6/100\n",
      "34/34 [==============================] - 10s 292ms/step - loss: 1.8881 - accuracy: 0.2174 - val_loss: 1.8719 - val_accuracy: 0.2226\n",
      "Epoch 7/100\n",
      "34/34 [==============================] - 10s 291ms/step - loss: 1.8712 - accuracy: 0.2164 - val_loss: 1.8740 - val_accuracy: 0.2264\n",
      "Epoch 8/100\n",
      "34/34 [==============================] - 9s 280ms/step - loss: 1.8653 - accuracy: 0.2136 - val_loss: 1.8686 - val_accuracy: 0.2038\n",
      "Epoch 9/100\n",
      "34/34 [==============================] - 9s 277ms/step - loss: 1.8933 - accuracy: 0.2013 - val_loss: 1.9016 - val_accuracy: 0.1849\n",
      "Epoch 10/100\n",
      "34/34 [==============================] - 10s 283ms/step - loss: 1.8481 - accuracy: 0.2240 - val_loss: 1.8931 - val_accuracy: 0.1434\n",
      "Epoch 11/100\n",
      "34/34 [==============================] - 9s 270ms/step - loss: 1.8404 - accuracy: 0.2164 - val_loss: 1.9019 - val_accuracy: 0.1283\n",
      "Epoch 12/100\n",
      "34/34 [==============================] - 9s 278ms/step - loss: 1.8602 - accuracy: 0.2089 - val_loss: 1.9086 - val_accuracy: 0.1472\n",
      "Epoch 13/100\n",
      "34/34 [==============================] - 10s 281ms/step - loss: 1.8506 - accuracy: 0.2098 - val_loss: 1.8783 - val_accuracy: 0.1472\n",
      "Epoch 14/100\n",
      "34/34 [==============================] - 9s 278ms/step - loss: 1.8315 - accuracy: 0.2221 - val_loss: 1.8717 - val_accuracy: 0.1660\n",
      "Epoch 15/100\n",
      "34/34 [==============================] - 9s 266ms/step - loss: 1.8136 - accuracy: 0.2183 - val_loss: 1.8499 - val_accuracy: 0.2038\n",
      "Epoch 16/100\n",
      "34/34 [==============================] - 10s 283ms/step - loss: 1.8013 - accuracy: 0.2335 - val_loss: 1.9035 - val_accuracy: 0.2075\n",
      "Epoch 17/100\n",
      "34/34 [==============================] - 10s 297ms/step - loss: 1.7988 - accuracy: 0.2202 - val_loss: 1.8401 - val_accuracy: 0.2000\n",
      "Epoch 18/100\n",
      "34/34 [==============================] - 10s 298ms/step - loss: 1.7659 - accuracy: 0.2401 - val_loss: 1.7938 - val_accuracy: 0.2302\n",
      "Epoch 19/100\n",
      "34/34 [==============================] - 10s 291ms/step - loss: 1.7752 - accuracy: 0.2476 - val_loss: 1.8025 - val_accuracy: 0.2038\n",
      "Epoch 20/100\n",
      "34/34 [==============================] - 10s 283ms/step - loss: 1.7225 - accuracy: 0.2694 - val_loss: 1.7390 - val_accuracy: 0.2906\n",
      "Epoch 21/100\n",
      "34/34 [==============================] - 10s 297ms/step - loss: 1.7143 - accuracy: 0.2703 - val_loss: 1.7771 - val_accuracy: 0.2830\n",
      "Epoch 22/100\n",
      "34/34 [==============================] - 10s 292ms/step - loss: 1.7428 - accuracy: 0.2817 - val_loss: 1.7153 - val_accuracy: 0.3170\n",
      "Epoch 23/100\n",
      "34/34 [==============================] - 10s 289ms/step - loss: 1.6868 - accuracy: 0.3015 - val_loss: 1.7394 - val_accuracy: 0.2792\n",
      "Epoch 24/100\n",
      "34/34 [==============================] - 10s 286ms/step - loss: 1.6624 - accuracy: 0.3308 - val_loss: 1.7346 - val_accuracy: 0.3019\n",
      "Epoch 25/100\n",
      "34/34 [==============================] - 10s 290ms/step - loss: 1.6221 - accuracy: 0.3526 - val_loss: 1.7854 - val_accuracy: 0.2981\n",
      "Epoch 26/100\n",
      "34/34 [==============================] - 10s 291ms/step - loss: 1.6193 - accuracy: 0.3270 - val_loss: 1.8435 - val_accuracy: 0.2415\n",
      "Epoch 27/100\n",
      "34/34 [==============================] - 10s 290ms/step - loss: 1.6691 - accuracy: 0.3091 - val_loss: 1.7226 - val_accuracy: 0.2679\n",
      "Epoch 28/100\n",
      "34/34 [==============================] - 10s 284ms/step - loss: 1.6199 - accuracy: 0.3147 - val_loss: 1.8014 - val_accuracy: 0.2906\n",
      "Epoch 29/100\n",
      "34/34 [==============================] - 10s 287ms/step - loss: 1.6089 - accuracy: 0.3365 - val_loss: 1.7584 - val_accuracy: 0.2415\n",
      "Epoch 30/100\n",
      "34/34 [==============================] - 11s 319ms/step - loss: 1.6840 - accuracy: 0.3062 - val_loss: 1.6612 - val_accuracy: 0.3094\n",
      "Epoch 31/100\n",
      "34/34 [==============================] - 10s 297ms/step - loss: 1.6552 - accuracy: 0.3091 - val_loss: 1.7077 - val_accuracy: 0.2792\n",
      "Epoch 32/100\n",
      "34/34 [==============================] - 10s 283ms/step - loss: 1.6673 - accuracy: 0.3195 - val_loss: 1.6757 - val_accuracy: 0.3396\n",
      "Epoch 33/100\n",
      "34/34 [==============================] - 10s 287ms/step - loss: 1.6543 - accuracy: 0.3110 - val_loss: 1.6714 - val_accuracy: 0.2717\n",
      "Epoch 34/100\n",
      "34/34 [==============================] - 9s 276ms/step - loss: 1.6139 - accuracy: 0.3365 - val_loss: 1.6431 - val_accuracy: 0.3245\n",
      "Epoch 35/100\n",
      "34/34 [==============================] - 10s 302ms/step - loss: 1.6155 - accuracy: 0.3327 - val_loss: 1.6121 - val_accuracy: 0.3358\n",
      "Epoch 36/100\n",
      "34/34 [==============================] - 12s 368ms/step - loss: 1.5647 - accuracy: 0.3611 - val_loss: 1.7139 - val_accuracy: 0.3321\n",
      "Epoch 37/100\n",
      "34/34 [==============================] - 11s 329ms/step - loss: 1.5778 - accuracy: 0.3535 - val_loss: 1.6723 - val_accuracy: 0.3283\n",
      "Epoch 38/100\n",
      "34/34 [==============================] - 11s 337ms/step - loss: 1.5030 - accuracy: 0.3998 - val_loss: 1.6315 - val_accuracy: 0.3396\n",
      "Epoch 39/100\n",
      "34/34 [==============================] - 10s 288ms/step - loss: 1.4966 - accuracy: 0.4008 - val_loss: 1.5719 - val_accuracy: 0.3547\n",
      "Epoch 40/100\n",
      "34/34 [==============================] - 10s 305ms/step - loss: 1.4437 - accuracy: 0.4253 - val_loss: 1.6036 - val_accuracy: 0.3472\n",
      "Epoch 41/100\n",
      "34/34 [==============================] - 11s 320ms/step - loss: 1.4612 - accuracy: 0.4149 - val_loss: 1.6603 - val_accuracy: 0.3245\n",
      "Epoch 42/100\n",
      "34/34 [==============================] - 10s 298ms/step - loss: 1.4151 - accuracy: 0.4461 - val_loss: 1.5485 - val_accuracy: 0.3887\n",
      "Epoch 43/100\n",
      "34/34 [==============================] - 10s 287ms/step - loss: 1.3703 - accuracy: 0.4518 - val_loss: 1.4825 - val_accuracy: 0.3774\n",
      "Epoch 44/100\n",
      "34/34 [==============================] - 10s 289ms/step - loss: 1.3584 - accuracy: 0.4537 - val_loss: 1.6738 - val_accuracy: 0.3283\n",
      "Epoch 45/100\n",
      "34/34 [==============================] - 10s 287ms/step - loss: 1.3397 - accuracy: 0.4773 - val_loss: 1.4601 - val_accuracy: 0.3887\n",
      "Epoch 46/100\n",
      "34/34 [==============================] - 10s 288ms/step - loss: 1.2954 - accuracy: 0.4792 - val_loss: 1.4926 - val_accuracy: 0.3962\n",
      "Epoch 47/100\n",
      "34/34 [==============================] - 10s 288ms/step - loss: 1.3245 - accuracy: 0.4679 - val_loss: 1.5089 - val_accuracy: 0.4189\n",
      "Epoch 48/100\n",
      "34/34 [==============================] - 10s 290ms/step - loss: 1.2320 - accuracy: 0.5227 - val_loss: 1.3881 - val_accuracy: 0.4604\n",
      "Epoch 49/100\n",
      "34/34 [==============================] - 10s 283ms/step - loss: 1.2113 - accuracy: 0.5123 - val_loss: 1.4779 - val_accuracy: 0.4264\n",
      "Epoch 50/100\n",
      "34/34 [==============================] - 10s 282ms/step - loss: 1.1875 - accuracy: 0.5350 - val_loss: 1.4159 - val_accuracy: 0.4981\n",
      "Epoch 51/100\n",
      "34/34 [==============================] - 11s 311ms/step - loss: 1.0939 - accuracy: 0.5728 - val_loss: 1.4133 - val_accuracy: 0.4528\n",
      "Epoch 52/100\n",
      "34/34 [==============================] - 10s 290ms/step - loss: 1.0246 - accuracy: 0.5917 - val_loss: 1.4391 - val_accuracy: 0.4755\n",
      "Epoch 53/100\n",
      "34/34 [==============================] - 10s 306ms/step - loss: 0.9790 - accuracy: 0.6144 - val_loss: 1.4738 - val_accuracy: 0.4868\n",
      "Epoch 54/100\n",
      "34/34 [==============================] - 10s 309ms/step - loss: 0.9858 - accuracy: 0.6115 - val_loss: 1.5732 - val_accuracy: 0.4755\n",
      "Epoch 55/100\n",
      "34/34 [==============================] - 10s 304ms/step - loss: 1.0103 - accuracy: 0.6267 - val_loss: 1.3713 - val_accuracy: 0.5208\n",
      "Epoch 56/100\n",
      "34/34 [==============================] - 9s 275ms/step - loss: 0.8835 - accuracy: 0.6767 - val_loss: 1.3983 - val_accuracy: 0.4868\n",
      "Epoch 57/100\n",
      "34/34 [==============================] - 9s 276ms/step - loss: 0.7771 - accuracy: 0.7070 - val_loss: 1.4517 - val_accuracy: 0.5057\n",
      "Epoch 58/100\n",
      "34/34 [==============================] - 9s 276ms/step - loss: 0.8734 - accuracy: 0.6796 - val_loss: 1.4220 - val_accuracy: 0.5057\n",
      "Epoch 59/100\n",
      "34/34 [==============================] - 10s 294ms/step - loss: 0.6990 - accuracy: 0.7391 - val_loss: 1.4610 - val_accuracy: 0.5509\n",
      "Epoch 60/100\n",
      "34/34 [==============================] - 11s 321ms/step - loss: 0.6205 - accuracy: 0.7713 - val_loss: 1.5924 - val_accuracy: 0.5358\n",
      "Epoch 61/100\n",
      "34/34 [==============================] - 11s 312ms/step - loss: 0.6207 - accuracy: 0.7628 - val_loss: 1.3746 - val_accuracy: 0.5660\n",
      "Epoch 62/100\n",
      "34/34 [==============================] - 9s 271ms/step - loss: 0.5691 - accuracy: 0.7817 - val_loss: 1.5460 - val_accuracy: 0.5358\n",
      "Epoch 63/100\n",
      "34/34 [==============================] - 10s 290ms/step - loss: 0.5011 - accuracy: 0.8100 - val_loss: 1.5173 - val_accuracy: 0.5434\n",
      "Epoch 64/100\n",
      "34/34 [==============================] - 10s 289ms/step - loss: 0.4725 - accuracy: 0.8204 - val_loss: 1.6060 - val_accuracy: 0.5094\n",
      "Epoch 65/100\n",
      "34/34 [==============================] - 10s 286ms/step - loss: 0.4123 - accuracy: 0.8516 - val_loss: 1.8510 - val_accuracy: 0.5396\n",
      "Score for fold 2:            loss of 1.3713206052780151;            accuracy of 52.07546949386597%\n",
      "Epoch 1/100\n",
      "34/34 [==============================] - 14s 303ms/step - loss: 1.9385 - accuracy: 0.2032 - val_loss: 1.8531 - val_accuracy: 0.2377\n",
      "Epoch 2/100\n",
      "34/34 [==============================] - 10s 282ms/step - loss: 1.8051 - accuracy: 0.2590 - val_loss: 1.7162 - val_accuracy: 0.2755\n",
      "Epoch 3/100\n",
      "34/34 [==============================] - 10s 282ms/step - loss: 1.7497 - accuracy: 0.2949 - val_loss: 1.6578 - val_accuracy: 0.3321\n",
      "Epoch 4/100\n",
      "34/34 [==============================] - 10s 283ms/step - loss: 1.6486 - accuracy: 0.3270 - val_loss: 1.7878 - val_accuracy: 0.2830\n",
      "Epoch 5/100\n",
      "34/34 [==============================] - 10s 292ms/step - loss: 1.5278 - accuracy: 0.4093 - val_loss: 1.5370 - val_accuracy: 0.3358\n",
      "Epoch 6/100\n",
      "34/34 [==============================] - 10s 294ms/step - loss: 1.4530 - accuracy: 0.4537 - val_loss: 1.4709 - val_accuracy: 0.4189\n",
      "Epoch 7/100\n",
      "34/34 [==============================] - 10s 284ms/step - loss: 1.2721 - accuracy: 0.5095 - val_loss: 1.4700 - val_accuracy: 0.4264\n",
      "Epoch 8/100\n",
      "34/34 [==============================] - 10s 286ms/step - loss: 1.3606 - accuracy: 0.4905 - val_loss: 1.3448 - val_accuracy: 0.5245\n",
      "Epoch 9/100\n",
      "34/34 [==============================] - 10s 282ms/step - loss: 1.2146 - accuracy: 0.5331 - val_loss: 1.2388 - val_accuracy: 0.5434\n",
      "Epoch 10/100\n",
      "34/34 [==============================] - 10s 287ms/step - loss: 1.1403 - accuracy: 0.5822 - val_loss: 1.3246 - val_accuracy: 0.4679\n",
      "Epoch 11/100\n",
      "34/34 [==============================] - 10s 291ms/step - loss: 0.9560 - accuracy: 0.6352 - val_loss: 1.4108 - val_accuracy: 0.5396\n",
      "Epoch 12/100\n",
      "34/34 [==============================] - 12s 343ms/step - loss: 0.9261 - accuracy: 0.6578 - val_loss: 1.0342 - val_accuracy: 0.6491\n",
      "Epoch 13/100\n",
      "34/34 [==============================] - 10s 290ms/step - loss: 0.8230 - accuracy: 0.7042 - val_loss: 1.0965 - val_accuracy: 0.6264\n",
      "Epoch 14/100\n",
      "34/34 [==============================] - 10s 293ms/step - loss: 0.7369 - accuracy: 0.7344 - val_loss: 1.1377 - val_accuracy: 0.5698\n",
      "Epoch 15/100\n",
      "34/34 [==============================] - 10s 305ms/step - loss: 0.7370 - accuracy: 0.7344 - val_loss: 1.0356 - val_accuracy: 0.6038\n",
      "Epoch 16/100\n",
      "34/34 [==============================] - 10s 298ms/step - loss: 0.6177 - accuracy: 0.7656 - val_loss: 1.0732 - val_accuracy: 0.6264\n",
      "Epoch 17/100\n",
      "34/34 [==============================] - 10s 295ms/step - loss: 0.5857 - accuracy: 0.7921 - val_loss: 0.9763 - val_accuracy: 0.6679\n",
      "Epoch 18/100\n",
      "34/34 [==============================] - 10s 306ms/step - loss: 0.6108 - accuracy: 0.7713 - val_loss: 0.9740 - val_accuracy: 0.6302\n",
      "Epoch 19/100\n",
      "34/34 [==============================] - 10s 293ms/step - loss: 0.3685 - accuracy: 0.8696 - val_loss: 0.7407 - val_accuracy: 0.7547\n",
      "Epoch 20/100\n",
      "34/34 [==============================] - 9s 274ms/step - loss: 0.3840 - accuracy: 0.8752 - val_loss: 0.9301 - val_accuracy: 0.7208\n",
      "Epoch 21/100\n",
      "34/34 [==============================] - 9s 277ms/step - loss: 0.2702 - accuracy: 0.9074 - val_loss: 0.7686 - val_accuracy: 0.7358\n",
      "Epoch 22/100\n",
      "34/34 [==============================] - 9s 275ms/step - loss: 0.2026 - accuracy: 0.9367 - val_loss: 0.8621 - val_accuracy: 0.7585\n",
      "Epoch 23/100\n",
      "34/34 [==============================] - 9s 274ms/step - loss: 0.1641 - accuracy: 0.9480 - val_loss: 0.9361 - val_accuracy: 0.7321\n",
      "Epoch 24/100\n",
      "34/34 [==============================] - 10s 288ms/step - loss: 0.1477 - accuracy: 0.9509 - val_loss: 0.9129 - val_accuracy: 0.7396\n",
      "Epoch 25/100\n",
      "34/34 [==============================] - 10s 283ms/step - loss: 0.1582 - accuracy: 0.9480 - val_loss: 0.8223 - val_accuracy: 0.7698\n",
      "Epoch 26/100\n",
      "34/34 [==============================] - 11s 335ms/step - loss: 0.0870 - accuracy: 0.9726 - val_loss: 1.0370 - val_accuracy: 0.7208\n",
      "Epoch 27/100\n",
      "34/34 [==============================] - 12s 344ms/step - loss: 0.1209 - accuracy: 0.9603 - val_loss: 0.8102 - val_accuracy: 0.7585\n",
      "Epoch 28/100\n",
      "34/34 [==============================] - 11s 319ms/step - loss: 0.1421 - accuracy: 0.9499 - val_loss: 1.2413 - val_accuracy: 0.6868\n",
      "Epoch 29/100\n",
      "34/34 [==============================] - 11s 323ms/step - loss: 0.4371 - accuracy: 0.8629 - val_loss: 0.9188 - val_accuracy: 0.7358\n",
      "Score for fold 3:            loss of 0.7407466769218445;            accuracy of 75.47169923782349%\n",
      "Epoch 1/100\n",
      "34/34 [==============================] - 15s 371ms/step - loss: 1.9662 - accuracy: 0.2144 - val_loss: 1.8369 - val_accuracy: 0.2386\n",
      "Epoch 2/100\n",
      "34/34 [==============================] - 11s 333ms/step - loss: 1.8242 - accuracy: 0.2295 - val_loss: 1.7193 - val_accuracy: 0.2879\n",
      "Epoch 3/100\n",
      "34/34 [==============================] - 10s 300ms/step - loss: 1.7277 - accuracy: 0.2890 - val_loss: 1.6896 - val_accuracy: 0.2955\n",
      "Epoch 4/100\n",
      "34/34 [==============================] - 10s 296ms/step - loss: 1.6672 - accuracy: 0.3220 - val_loss: 1.7598 - val_accuracy: 0.3295\n",
      "Epoch 5/100\n",
      "34/34 [==============================] - 10s 285ms/step - loss: 1.6283 - accuracy: 0.3333 - val_loss: 1.6407 - val_accuracy: 0.3295\n",
      "Epoch 6/100\n",
      "34/34 [==============================] - 10s 295ms/step - loss: 1.5211 - accuracy: 0.3796 - val_loss: 1.6605 - val_accuracy: 0.3561\n",
      "Epoch 7/100\n",
      "34/34 [==============================] - 11s 339ms/step - loss: 1.4124 - accuracy: 0.4353 - val_loss: 1.5608 - val_accuracy: 0.3902\n",
      "Epoch 8/100\n",
      "34/34 [==============================] - 10s 288ms/step - loss: 1.4093 - accuracy: 0.4589 - val_loss: 1.5703 - val_accuracy: 0.3977\n",
      "Epoch 9/100\n",
      "34/34 [==============================] - 9s 278ms/step - loss: 1.3322 - accuracy: 0.4844 - val_loss: 1.2847 - val_accuracy: 0.5265\n",
      "Epoch 10/100\n",
      "34/34 [==============================] - 10s 289ms/step - loss: 1.1691 - accuracy: 0.5590 - val_loss: 1.3926 - val_accuracy: 0.4697\n",
      "Epoch 11/100\n",
      "34/34 [==============================] - 10s 284ms/step - loss: 1.0904 - accuracy: 0.5949 - val_loss: 1.2486 - val_accuracy: 0.5152\n",
      "Epoch 12/100\n",
      "34/34 [==============================] - 9s 278ms/step - loss: 1.0234 - accuracy: 0.6147 - val_loss: 1.0691 - val_accuracy: 0.6288\n",
      "Epoch 13/100\n",
      "34/34 [==============================] - 10s 281ms/step - loss: 0.8820 - accuracy: 0.6761 - val_loss: 1.2226 - val_accuracy: 0.5720\n",
      "Epoch 14/100\n",
      "34/34 [==============================] - 10s 281ms/step - loss: 0.8086 - accuracy: 0.7035 - val_loss: 1.1499 - val_accuracy: 0.5985\n",
      "Epoch 15/100\n",
      "34/34 [==============================] - 10s 285ms/step - loss: 0.7744 - accuracy: 0.7092 - val_loss: 0.9746 - val_accuracy: 0.6667\n",
      "Epoch 16/100\n",
      "34/34 [==============================] - 10s 303ms/step - loss: 0.6852 - accuracy: 0.7450 - val_loss: 0.9686 - val_accuracy: 0.6553\n",
      "Epoch 17/100\n",
      "34/34 [==============================] - 10s 282ms/step - loss: 0.6409 - accuracy: 0.7800 - val_loss: 0.8621 - val_accuracy: 0.7121\n",
      "Epoch 18/100\n",
      "34/34 [==============================] - 10s 280ms/step - loss: 0.6143 - accuracy: 0.7856 - val_loss: 0.9037 - val_accuracy: 0.6591\n",
      "Epoch 19/100\n",
      "34/34 [==============================] - 10s 298ms/step - loss: 0.5181 - accuracy: 0.8187 - val_loss: 0.9268 - val_accuracy: 0.6818\n",
      "Epoch 20/100\n",
      "34/34 [==============================] - 11s 324ms/step - loss: 0.3916 - accuracy: 0.8546 - val_loss: 0.9729 - val_accuracy: 0.7348\n",
      "Epoch 21/100\n",
      "34/34 [==============================] - 10s 307ms/step - loss: 0.4216 - accuracy: 0.8508 - val_loss: 0.9454 - val_accuracy: 0.7311\n",
      "Epoch 22/100\n",
      "34/34 [==============================] - 10s 288ms/step - loss: 0.3230 - accuracy: 0.8857 - val_loss: 0.8437 - val_accuracy: 0.7273\n",
      "Epoch 23/100\n",
      "34/34 [==============================] - 10s 281ms/step - loss: 0.2152 - accuracy: 0.9301 - val_loss: 0.9071 - val_accuracy: 0.7197\n",
      "Epoch 24/100\n",
      "34/34 [==============================] - 9s 278ms/step - loss: 0.2972 - accuracy: 0.8971 - val_loss: 0.9187 - val_accuracy: 0.7348\n",
      "Epoch 25/100\n",
      "34/34 [==============================] - 10s 296ms/step - loss: 0.2820 - accuracy: 0.8990 - val_loss: 1.1997 - val_accuracy: 0.6705\n",
      "Epoch 26/100\n",
      "34/34 [==============================] - 10s 287ms/step - loss: 0.3623 - accuracy: 0.8848 - val_loss: 0.9582 - val_accuracy: 0.7500\n",
      "Epoch 27/100\n",
      "34/34 [==============================] - 10s 309ms/step - loss: 0.1794 - accuracy: 0.9301 - val_loss: 1.0088 - val_accuracy: 0.7386\n",
      "Epoch 28/100\n",
      "34/34 [==============================] - 10s 282ms/step - loss: 0.1340 - accuracy: 0.9528 - val_loss: 0.8251 - val_accuracy: 0.7576\n",
      "Epoch 29/100\n",
      "34/34 [==============================] - 9s 274ms/step - loss: 0.1147 - accuracy: 0.9622 - val_loss: 0.9834 - val_accuracy: 0.7652\n",
      "Epoch 30/100\n",
      "34/34 [==============================] - 9s 277ms/step - loss: 0.1483 - accuracy: 0.9566 - val_loss: 1.0366 - val_accuracy: 0.7348\n",
      "Epoch 31/100\n",
      "34/34 [==============================] - 11s 317ms/step - loss: 0.1025 - accuracy: 0.9669 - val_loss: 0.9765 - val_accuracy: 0.7841\n",
      "Epoch 32/100\n",
      "34/34 [==============================] - 10s 304ms/step - loss: 0.0965 - accuracy: 0.9669 - val_loss: 0.9031 - val_accuracy: 0.7841\n",
      "Epoch 33/100\n",
      "34/34 [==============================] - 10s 289ms/step - loss: 0.1172 - accuracy: 0.9585 - val_loss: 1.0615 - val_accuracy: 0.7424\n",
      "Epoch 34/100\n",
      "34/34 [==============================] - 10s 294ms/step - loss: 0.2742 - accuracy: 0.9169 - val_loss: 0.9924 - val_accuracy: 0.7462\n",
      "Epoch 35/100\n",
      "34/34 [==============================] - 10s 282ms/step - loss: 0.2514 - accuracy: 0.9150 - val_loss: 0.9344 - val_accuracy: 0.7348\n",
      "Epoch 36/100\n",
      "34/34 [==============================] - 10s 294ms/step - loss: 0.0968 - accuracy: 0.9651 - val_loss: 1.0089 - val_accuracy: 0.7576\n",
      "Epoch 37/100\n",
      "34/34 [==============================] - 10s 300ms/step - loss: 0.1384 - accuracy: 0.9566 - val_loss: 1.0310 - val_accuracy: 0.7727\n",
      "Epoch 38/100\n",
      "34/34 [==============================] - 10s 308ms/step - loss: 0.0703 - accuracy: 0.9764 - val_loss: 1.0638 - val_accuracy: 0.7576\n",
      "Score for fold 4:            loss of 0.8250930905342102;            accuracy of 75.75757503509521%\n",
      "Epoch 1/100\n",
      "34/34 [==============================] - 13s 311ms/step - loss: 1.9532 - accuracy: 0.2351 - val_loss: 1.8723 - val_accuracy: 0.2159\n",
      "Epoch 2/100\n",
      "34/34 [==============================] - 10s 285ms/step - loss: 1.7901 - accuracy: 0.2767 - val_loss: 1.8317 - val_accuracy: 0.2652\n",
      "Epoch 3/100\n",
      "34/34 [==============================] - 10s 284ms/step - loss: 1.7215 - accuracy: 0.3059 - val_loss: 1.8151 - val_accuracy: 0.2841\n",
      "Epoch 4/100\n",
      "34/34 [==============================] - 10s 284ms/step - loss: 1.6132 - accuracy: 0.3702 - val_loss: 1.5742 - val_accuracy: 0.3523\n",
      "Epoch 5/100\n",
      "34/34 [==============================] - 10s 281ms/step - loss: 1.5426 - accuracy: 0.3994 - val_loss: 1.7272 - val_accuracy: 0.3258\n",
      "Epoch 6/100\n",
      "34/34 [==============================] - 10s 282ms/step - loss: 1.5063 - accuracy: 0.4013 - val_loss: 1.7017 - val_accuracy: 0.3598\n",
      "Epoch 7/100\n",
      "34/34 [==============================] - 10s 283ms/step - loss: 1.4549 - accuracy: 0.4315 - val_loss: 1.4981 - val_accuracy: 0.4394\n",
      "Epoch 8/100\n",
      "34/34 [==============================] - 10s 282ms/step - loss: 1.2976 - accuracy: 0.4920 - val_loss: 1.4429 - val_accuracy: 0.4356\n",
      "Epoch 9/100\n",
      "34/34 [==============================] - 10s 287ms/step - loss: 1.2679 - accuracy: 0.5080 - val_loss: 1.4714 - val_accuracy: 0.4318\n",
      "Epoch 10/100\n",
      "34/34 [==============================] - 10s 283ms/step - loss: 1.3419 - accuracy: 0.4939 - val_loss: 1.4047 - val_accuracy: 0.4470\n",
      "Epoch 11/100\n",
      "34/34 [==============================] - 11s 323ms/step - loss: 1.0625 - accuracy: 0.6062 - val_loss: 1.3102 - val_accuracy: 0.5189\n",
      "Epoch 12/100\n",
      "34/34 [==============================] - 11s 311ms/step - loss: 1.0727 - accuracy: 0.5864 - val_loss: 1.3941 - val_accuracy: 0.4621\n",
      "Epoch 13/100\n",
      "34/34 [==============================] - 10s 298ms/step - loss: 0.9227 - accuracy: 0.6638 - val_loss: 1.2264 - val_accuracy: 0.5530\n",
      "Epoch 14/100\n",
      "34/34 [==============================] - 9s 277ms/step - loss: 0.8795 - accuracy: 0.6808 - val_loss: 1.1852 - val_accuracy: 0.5606\n",
      "Epoch 15/100\n",
      "34/34 [==============================] - 9s 279ms/step - loss: 0.7979 - accuracy: 0.7073 - val_loss: 1.1611 - val_accuracy: 0.5758\n",
      "Epoch 16/100\n",
      "34/34 [==============================] - 9s 279ms/step - loss: 0.7034 - accuracy: 0.7535 - val_loss: 1.1017 - val_accuracy: 0.6136\n",
      "Epoch 17/100\n",
      "34/34 [==============================] - 9s 275ms/step - loss: 0.6379 - accuracy: 0.7573 - val_loss: 1.0783 - val_accuracy: 0.6326\n",
      "Epoch 18/100\n",
      "34/34 [==============================] - 11s 331ms/step - loss: 0.5189 - accuracy: 0.8140 - val_loss: 0.9471 - val_accuracy: 0.6705\n",
      "Epoch 19/100\n",
      "34/34 [==============================] - 10s 297ms/step - loss: 0.4158 - accuracy: 0.8489 - val_loss: 1.0574 - val_accuracy: 0.6818\n",
      "Epoch 20/100\n",
      "34/34 [==============================] - 11s 330ms/step - loss: 0.4366 - accuracy: 0.8451 - val_loss: 1.3437 - val_accuracy: 0.6591\n",
      "Epoch 21/100\n",
      "34/34 [==============================] - 10s 285ms/step - loss: 0.4531 - accuracy: 0.8414 - val_loss: 1.1586 - val_accuracy: 0.6553\n",
      "Epoch 22/100\n",
      "34/34 [==============================] - 10s 285ms/step - loss: 0.3405 - accuracy: 0.8763 - val_loss: 0.9487 - val_accuracy: 0.7159\n",
      "Epoch 23/100\n",
      "34/34 [==============================] - 10s 294ms/step - loss: 0.3138 - accuracy: 0.8999 - val_loss: 0.9803 - val_accuracy: 0.6894\n",
      "Epoch 24/100\n",
      "34/34 [==============================] - 10s 281ms/step - loss: 0.3357 - accuracy: 0.8867 - val_loss: 1.2284 - val_accuracy: 0.6629\n",
      "Epoch 25/100\n",
      "34/34 [==============================] - 10s 281ms/step - loss: 0.2877 - accuracy: 0.8980 - val_loss: 0.9996 - val_accuracy: 0.7045\n",
      "Epoch 26/100\n",
      "34/34 [==============================] - 9s 280ms/step - loss: 0.2559 - accuracy: 0.9122 - val_loss: 1.1051 - val_accuracy: 0.7045\n",
      "Epoch 27/100\n",
      "34/34 [==============================] - 10s 283ms/step - loss: 0.1956 - accuracy: 0.9320 - val_loss: 1.0423 - val_accuracy: 0.7311\n",
      "Epoch 28/100\n",
      "34/34 [==============================] - 10s 285ms/step - loss: 0.1952 - accuracy: 0.9320 - val_loss: 1.0638 - val_accuracy: 0.7273\n",
      "Score for fold 5:            loss of 0.9471093416213989;            accuracy of 67.04545617103577%\n",
      "Accuracy of Model with (5-Fold) Cross Validation is: 67.05 %\n",
      "Loss of Model with (5-Fold) Cross Validation is: 1.0061\n"
     ]
    },
    {
     "name": "stderr",
     "output_type": "stream",
     "text": [
      "WARNING:absl:Found untraced functions such as lstm_cell_24_layer_call_fn, lstm_cell_24_layer_call_and_return_conditional_losses, lstm_cell_25_layer_call_fn, lstm_cell_25_layer_call_and_return_conditional_losses while saving (showing 4 of 4). These functions will not be directly callable after loading.\n"
     ]
    },
    {
     "name": "stdout",
     "output_type": "stream",
     "text": [
      "INFO:tensorflow:Assets written to: ram://8514eaaa-23ec-4695-8b1e-69e8f9629a16/assets\n"
     ]
    },
    {
     "name": "stderr",
     "output_type": "stream",
     "text": [
      "INFO:tensorflow:Assets written to: ram://8514eaaa-23ec-4695-8b1e-69e8f9629a16/assets\n",
      "WARNING:absl:<keras.layers.recurrent.LSTMCell object at 0x7faea320d460> has the same name 'LSTMCell' as a built-in Keras object. Consider renaming <class 'keras.layers.recurrent.LSTMCell'> to avoid naming conflicts when loading with `tf.keras.models.load_model`. If renaming is not possible, pass the object in the `custom_objects` parameter of the load function.\n",
      "WARNING:absl:<keras.layers.recurrent.LSTMCell object at 0x7faea321bfa0> has the same name 'LSTMCell' as a built-in Keras object. Consider renaming <class 'keras.layers.recurrent.LSTMCell'> to avoid naming conflicts when loading with `tf.keras.models.load_model`. If renaming is not possible, pass the object in the `custom_objects` parameter of the load function.\n"
     ]
    }
   ],
   "source": [
    "data = pd.read_csv('EMOVO_features.csv')\n",
    "x_train, x_test, y_train, y_test, kf = data_preparation(data, standard_scaler=True, one_hot_encoding=True,\n",
    "                                                        train_test=True, split_rate=0.75, cv=True, n_fold=5)\n",
    "cross_validation(x_train, y_train, kf)"
   ]
  },
  {
   "cell_type": "markdown",
   "metadata": {
    "collapsed": false,
    "pycharm": {
     "name": "#%% md\n"
    }
   },
   "source": [
    "### **2. BIDIRECTIONAL CLSTM Bidirezionale : MelSpectogram Extraction from Sequetial Data**\n"
   ]
  },
  {
   "cell_type": "code",
   "execution_count": 9,
   "metadata": {
    "collapsed": false,
    "pycharm": {
     "name": "#%%\n"
    }
   },
   "outputs": [],
   "source": [
    "# Preprocessing parameters\n",
    "sr = 44100  # Sampling rate\n",
    "duration = 7\n",
    "hop_length = 347  # to make time steps 128\n",
    "fmin = 20\n",
    "fmax = sr // 2\n",
    "n_mels = 128\n",
    "n_fft = n_mels * 20\n",
    "samples = sr * duration\n",
    "\n",
    "\n",
    "def read_audio(path):\n",
    "    '''\n",
    "    Reads in the audio file and returns\n",
    "    an array that we can turn into a melspectogram\n",
    "    '''\n",
    "    y, _ = librosa.core.load(path, sr=44100)\n",
    "    # trim silence\n",
    "    if 0 < len(y):  # workaround: 0 length causes error\n",
    "        y, _ = librosa.effects.trim(y)\n",
    "    if len(y) > samples:  # long enough\n",
    "        y = y[0:0 + samples]\n",
    "    else:  # pad blank\n",
    "        padding = samples - len(y)\n",
    "        offset = padding // 2\n",
    "        y = np.pad(y, (offset, samples - len(y) - offset), 'constant')\n",
    "    return y\n",
    "\n",
    "\n",
    "def audio_to_melspectrogram(audio):\n",
    "    '''\n",
    "    Convert to melspectrogram after audio is read in\n",
    "    '''\n",
    "    spectrogram = librosa.feature.melspectrogram(audio,\n",
    "                                                 sr=sr,\n",
    "                                                 n_mels=n_mels,\n",
    "                                                 hop_length=hop_length,\n",
    "                                                 n_fft=n_fft,\n",
    "                                                 fmin=fmin,\n",
    "                                                 fmax=fmax)\n",
    "    return librosa.power_to_db(spectrogram).astype(np.float32)\n",
    "\n",
    "\n",
    "def read_as_melspectrogram(path):\n",
    "    '''\n",
    "    Convert audio into a melspectrogram\n",
    "    so we can use machine learning\n",
    "    '''\n",
    "    mels = audio_to_melspectrogram(read_audio(path))\n",
    "    return mels\n",
    "\n",
    "\n",
    "def convert_wav_to_image(df, path):\n",
    "    X = []\n",
    "    for _, row in tqdm_notebook(df.iterrows()):\n",
    "        x = read_as_melspectrogram('{}/{}'.format(path[0], str(row['path'])))\n",
    "        X.append(x.transpose())\n",
    "    return X\n",
    "\n",
    "\n",
    "def normalize(img):\n",
    "    '''\n",
    "    Normalizes an array\n",
    "    (subtract mean and divide by standard deviation)\n",
    "    '''\n",
    "    eps = 0.001\n",
    "    if np.std(img) != 0:\n",
    "        img = (img - np.mean(img)) / np.std(img)\n",
    "    else:\n",
    "        img = (img - np.mean(img)) / eps\n",
    "    return img\n",
    "\n",
    "\n",
    "def normalize_dataset(X):\n",
    "    '''\n",
    "    Normalizes list of arrays\n",
    "    (subtract mean and divide by standard deviation)\n",
    "    '''\n",
    "    normalized_dataset = []\n",
    "    for img in X:\n",
    "        normalized = normalize(img)\n",
    "        normalized_dataset.append(normalized)\n",
    "    return normalized_dataset\n"
   ]
  },
  {
   "cell_type": "code",
   "execution_count": 10,
   "metadata": {
    "collapsed": false,
    "pycharm": {
     "name": "#%%\n"
    }
   },
   "outputs": [
    {
     "name": "stderr",
     "output_type": "stream",
     "text": [
      "/var/folders/bb/h1j5r_2d0s55rtj_m315_4cr0000gn/T/ipykernel_15645/2872915887.py:55: TqdmDeprecationWarning: This function will be removed in tqdm==5.0.0\n",
      "Please use `tqdm.notebook.tqdm` instead of `tqdm.tqdm_notebook`\n",
      "  for _, row in tqdm_notebook(df.iterrows()):\n"
     ]
    },
    {
     "data": {
      "application/vnd.jupyter.widget-view+json": {
       "model_id": "93094d4160ee4e5a972ce09e2440f840",
       "version_major": 2,
       "version_minor": 0
      },
      "text/plain": [
       "0it [00:00, ?it/s]"
      ]
     },
     "metadata": {},
     "output_type": "display_data"
    },
    {
     "name": "stderr",
     "output_type": "stream",
     "text": [
      "/var/folders/bb/h1j5r_2d0s55rtj_m315_4cr0000gn/T/ipykernel_15645/2872915887.py:34: FutureWarning: Pass y=[0. 0. 0. ... 0. 0. 0.] as keyword args. From version 0.10 passing these as positional arguments will result in an error\n",
      "  spectrogram = librosa.feature.melspectrogram(audio,\n",
      "/var/folders/bb/h1j5r_2d0s55rtj_m315_4cr0000gn/T/ipykernel_15645/2872915887.py:34: FutureWarning: Pass y=[ 6.7025453e-06 -2.1631963e-04  3.9414471e-04 ... -7.7862211e-02\n",
      " -8.5835278e-02 -8.8092357e-02] as keyword args. From version 0.10 passing these as positional arguments will result in an error\n",
      "  spectrogram = librosa.feature.melspectrogram(audio,\n",
      "/var/folders/bb/h1j5r_2d0s55rtj_m315_4cr0000gn/T/ipykernel_15645/2872915887.py:34: FutureWarning: Pass y=[-8.4760354e-04 -1.7086910e-04 -2.2560866e-04 ...  7.0577502e-05\n",
      " -4.0506280e-04 -3.9608422e-04] as keyword args. From version 0.10 passing these as positional arguments will result in an error\n",
      "  spectrogram = librosa.feature.melspectrogram(audio,\n",
      "/var/folders/bb/h1j5r_2d0s55rtj_m315_4cr0000gn/T/ipykernel_15645/2872915887.py:34: FutureWarning: Pass y=[-5.7665503e-04 -8.0263685e-04 -8.9441572e-04 ...  1.1615100e-03\n",
      "  6.5826706e-04 -4.9895552e-05] as keyword args. From version 0.10 passing these as positional arguments will result in an error\n",
      "  spectrogram = librosa.feature.melspectrogram(audio,\n",
      "/var/folders/bb/h1j5r_2d0s55rtj_m315_4cr0000gn/T/ipykernel_15645/2872915887.py:34: FutureWarning: Pass y=[-0.00020177 -0.00035272 -0.00078517 ...  0.00018963  0.00028891\n",
      "  0.00018172] as keyword args. From version 0.10 passing these as positional arguments will result in an error\n",
      "  spectrogram = librosa.feature.melspectrogram(audio,\n",
      "/var/folders/bb/h1j5r_2d0s55rtj_m315_4cr0000gn/T/ipykernel_15645/2872915887.py:34: FutureWarning: Pass y=[0.00034975 0.00055391 0.00051954 ... 0.00012514 0.00023977 0.00053374] as keyword args. From version 0.10 passing these as positional arguments will result in an error\n",
      "  spectrogram = librosa.feature.melspectrogram(audio,\n",
      "/var/folders/bb/h1j5r_2d0s55rtj_m315_4cr0000gn/T/ipykernel_15645/2872915887.py:34: FutureWarning: Pass y=[0.00039432 0.00048758 0.00021862 ... 0.02453135 0.02251857 0.02582674] as keyword args. From version 0.10 passing these as positional arguments will result in an error\n",
      "  spectrogram = librosa.feature.melspectrogram(audio,\n"
     ]
    }
   ],
   "source": [
    "path = '/Users/gaetanopalmieri/virtualenvs/Università/PROGETTO_SMA/EMOVO/Emovo_data.csv'\n",
    "X = np.array(convert_wav_to_image(EMOVO_df, path))\n",
    "X = normalize_dataset(X)\n",
    "Y = EMOVO_df.labels.values\n",
    "x_train, x_val, y_train, y_val = train_test_split(X, Y, test_size=0.1, random_state=32)"
   ]
  },
  {
   "cell_type": "code",
   "execution_count": 11,
   "metadata": {
    "collapsed": false,
    "pycharm": {
     "name": "#%%\n"
    }
   },
   "outputs": [],
   "source": [
    "from keras import backend as K\n",
    "\n",
    "class Attention(Layer):\n",
    "    def __init__(self, step_dim,\n",
    "                 W_regularizer=None, b_regularizer=None,\n",
    "                 W_constraint=None, b_constraint=None\n",
    "                 ,\n",
    "                 bias=True, **kwargs):\n",
    "        self.supports_masking = True\n",
    "        self.init = initializers.get('glorot_uniform')\n",
    "        self.W_regularizer = regularizers.get(W_regularizer)\n",
    "        self.b_regularizer = regularizers.get(b_regularizer)\n",
    "        self.W_constraint = constraints.get(W_constraint)\n",
    "        self.b_constraint = constraints.get(b_constraint)\n",
    "        self.bias = bias\n",
    "        self.step_dim = step_dim\n",
    "        self.features_dim = 0\n",
    "        super(Attention, self).__init__(**kwargs)\n",
    "\n",
    "    def build(self, input_shape):\n",
    "        assert len(input_shape) == 3\n",
    "\n",
    "        self.W = self.add_weight(shape=(input_shape[-1],),\n",
    "                                 initializer=self.init,\n",
    "                                 name='{}_W'.format(self.name),\n",
    "                                 regularizer=self.W_regularizer,\n",
    "                                 constraint=self.W_constraint)\n",
    "        self.features_dim = input_shape[-1]\n",
    "\n",
    "        if self.bias:\n",
    "            self.b = self.add_weight(shape=(input_shape[1],),\n",
    "                                     initializer='zero',\n",
    "                                     name='{}_b'.format(self.name),\n",
    "                                     regularizer=self.b_regularizer,\n",
    "                                     constraint=self.b_constraint)\n",
    "        else:\n",
    "            self.b = None\n",
    "        self.built = True\n",
    "\n",
    "    def compute_mask(self, input, input_mask=None):\n",
    "        return None\n",
    "\n",
    "    def call(self, x, mask=None):\n",
    "        features_dim = self.features_dim\n",
    "        step_dim = self.step_dim\n",
    "\n",
    "        eij = K.reshape(K.dot(K.reshape(x, (-1, features_dim)),\n",
    "                        K.reshape(self.W, (features_dim, 1))), (-1, step_dim))\n",
    "        if self.bias:\n",
    "            eij += self.b\n",
    "        eij = K.tanh(eij)\n",
    "        a = K.exp(eij)\n",
    "        if mask is not None:\n",
    "            a *= K.cast(mask, K.floatx())\n",
    "        a /= K.cast(K.sum(a, axis=1, keepdims=True) + K.epsilon(), K.floatx())\n",
    "        a = K.expand_dims(a)\n",
    "        weighted_input = x * a\n",
    "        return K.sum(weighted_input, axis=1)\n",
    "\n",
    "    def compute_output_shape(self, input_shape):\n",
    "        return input_shape[0],  self.features_dim"
   ]
  },
  {
   "cell_type": "code",
   "execution_count": 12,
   "metadata": {
    "collapsed": false,
    "pycharm": {
     "name": "#%%\n"
    }
   },
   "outputs": [
    {
     "name": "stderr",
     "output_type": "stream",
     "text": [
      "2022-05-15 17:22:15.513492: I tensorflow/core/platform/cpu_feature_guard.cc:151] This TensorFlow binary is optimized with oneAPI Deep Neural Network Library (oneDNN) to use the following CPU instructions in performance-critical operations:  AVX2 FMA\n",
      "To enable them in other operations, rebuild TensorFlow with the appropriate compiler flags.\n"
     ]
    }
   ],
   "source": [
    "from tensorflow.keras.optimizers import Adam\n",
    "from keras.layers import (Dense, Bidirectional, CuDNNLSTM, ELU,\n",
    "                          Dropout, LeakyReLU, Conv1D, BatchNormalization)\n",
    "from keras.models import Sequential\n",
    "from keras.callbacks import EarlyStopping\n",
    "\n",
    "input_shape = (890,128)\n",
    "optimizer = Adam(0.005, beta_1=0.1, beta_2=0.001, amsgrad=True)\n",
    "n_classes = 7\n",
    "\n",
    "model = Sequential()\n",
    "model.add(Bidirectional(LSTM(256, return_sequences=True), input_shape=input_shape))\n",
    "model.add(Attention(890))\n",
    "model.add(Dropout(0.2))\n",
    "model.add(Dense(400))\n",
    "model.add(ELU())\n",
    "model.add(Dropout(0.2))\n",
    "model.add(Dense(n_classes, activation='softmax'))\n",
    "model.compile(loss='categorical_crossentropy',\n",
    "              optimizer=optimizer,\n",
    "              metrics=['acc'])"
   ]
  },
  {
   "cell_type": "code",
   "execution_count": null,
   "metadata": {
    "collapsed": false,
    "pycharm": {
     "is_executing": true,
     "name": "#%%\n"
    }
   },
   "outputs": [
    {
     "name": "stdout",
     "output_type": "stream",
     "text": [
      "Epoch 1/500\n",
      "9/9 [==============================] - 53s 5s/step - loss: 2.8409 - acc: 0.1701 - val_loss: 2.6553 - val_acc: 0.1186\n",
      "Epoch 2/500\n",
      "9/9 [==============================] - 51s 6s/step - loss: 2.0567 - acc: 0.2344 - val_loss: 2.1997 - val_acc: 0.2542\n",
      "Epoch 3/500\n",
      "9/9 [==============================] - 49s 5s/step - loss: 1.7700 - acc: 0.2987 - val_loss: 1.7715 - val_acc: 0.3051\n",
      "Epoch 4/500\n",
      "9/9 [==============================] - 50s 6s/step - loss: 1.5843 - acc: 0.3705 - val_loss: 1.7432 - val_acc: 0.2712\n",
      "Epoch 5/500\n",
      "9/9 [==============================] - 60s 7s/step - loss: 1.3928 - acc: 0.4575 - val_loss: 1.3558 - val_acc: 0.4576\n",
      "Epoch 6/500\n",
      "9/9 [==============================] - 68s 8s/step - loss: 1.4465 - acc: 0.4178 - val_loss: 1.3213 - val_acc: 0.5254\n",
      "Epoch 7/500\n",
      "9/9 [==============================] - 49s 5s/step - loss: 1.2654 - acc: 0.5180 - val_loss: 1.3113 - val_acc: 0.4068\n",
      "Epoch 8/500\n",
      "9/9 [==============================] - 47s 5s/step - loss: 1.0233 - acc: 0.6257 - val_loss: 1.5634 - val_acc: 0.4237\n",
      "Epoch 9/500\n",
      "9/9 [==============================] - 47s 5s/step - loss: 1.0590 - acc: 0.5766 - val_loss: 1.6964 - val_acc: 0.3559\n",
      "Epoch 10/500\n",
      "9/9 [==============================] - 46s 5s/step - loss: 0.9162 - acc: 0.6711 - val_loss: 1.3086 - val_acc: 0.4237\n",
      "Epoch 11/500\n",
      "9/9 [==============================] - 46s 5s/step - loss: 0.9850 - acc: 0.6616 - val_loss: 1.7212 - val_acc: 0.3559\n",
      "Epoch 12/500\n",
      "9/9 [==============================] - 45s 5s/step - loss: 1.0204 - acc: 0.6371 - val_loss: 1.2882 - val_acc: 0.4407\n",
      "Epoch 13/500\n",
      "9/9 [==============================] - 45s 5s/step - loss: 0.6214 - acc: 0.7845 - val_loss: 1.7049 - val_acc: 0.3898\n",
      "Epoch 14/500\n",
      "9/9 [==============================] - 48s 5s/step - loss: 0.6346 - acc: 0.7713 - val_loss: 1.1095 - val_acc: 0.5593\n",
      "Epoch 15/500\n"
     ]
    }
   ],
   "source": [
    "es = EarlyStopping(monitor='val_acc', mode='max', verbose=1, patience=30)\n",
    "lb = LabelEncoder()\n",
    "y_train = np_utils.to_categorical(lb.fit_transform(y_train))\n",
    "y_val = np_utils.to_categorical(lb.fit_transform(y_val))\n",
    "mean = np.mean(x_train, axis=0)\n",
    "std = np.std(x_train, axis=0)\n",
    "x_train = (x_train - mean)/std\n",
    "x_val = (x_val - mean)/std\n",
    "hist = model.fit(np.array(x_train),\n",
    "          y_train,\n",
    "          batch_size=64,\n",
    "          epochs=500,\n",
    "          validation_data=(np.array(x_val), y_val),\n",
    "          callbacks = [es])"
   ]
  },
  {
   "cell_type": "code",
   "execution_count": 18,
   "metadata": {
    "collapsed": false,
    "pycharm": {
     "name": "#%%\n"
    }
   },
   "outputs": [
    {
     "data": {
      "image/png": "[encoded data removed]",
      "text/plain": [
       "<Figure size 1080x360 with 1 Axes>"
      ]
     },
     "metadata": {
      "needs_background": "light"
     },
     "output_type": "display_data"
    }
   ],
   "source": [
    "# Visualize loss\n",
    "loss = hist.history['loss']\n",
    "val_loss = hist.history['val_loss']\n",
    "stopped_epoch = es.stopped_epoch\n",
    "epochs = range(stopped_epoch+1)\n",
    "\n",
    "plt.figure(figsize=(15,5))\n",
    "plt.plot(epochs, loss)\n",
    "plt.plot(epochs, val_loss)\n",
    "plt.title('Loss over epochs', weight='bold', fontsize=22)\n",
    "plt.xlabel('Epochs', fontsize=16)\n",
    "plt.ylabel('Loss', fontsize=16)\n",
    "plt.legend(['Training loss', 'Validation loss'], fontsize=16)\n",
    "plt.show()"
   ]
  },
  {
   "cell_type": "code",
   "execution_count": 19,
   "metadata": {
    "collapsed": false,
    "pycharm": {
     "name": "#%%\n"
    }
   },
   "outputs": [
    {
     "data": {
      "image/png": "[encoded data removed]",
      "text/plain": [
       "<Figure size 1080x360 with 1 Axes>"
      ]
     },
     "metadata": {
      "needs_background": "light"
     },
     "output_type": "display_data"
    }
   ],
   "source": [
    "# Visualize Accuracy\n",
    "acc = hist.history['acc']\n",
    "val_acc = hist.history['val_acc']\n",
    "epochs = range(stopped_epoch+1)\n",
    "\n",
    "plt.figure(figsize=(15,5))\n",
    "plt.plot(epochs, acc)\n",
    "plt.plot(epochs, val_acc)\n",
    "plt.title('Accuracy over epochs', weight='bold', fontsize=22)\n",
    "plt.xlabel('Epochs', fontsize=16)\n",
    "plt.ylabel('Accuracy', fontsize=16)\n",
    "plt.legend(['Training accuracy', 'Validation accuracy'], fontsize=16)\n",
    "plt.show()"
   ]
  },
  {
   "cell_type": "code",
   "execution_count": 20,
   "metadata": {
    "collapsed": false,
    "pycharm": {
     "name": "#%%\n"
    }
   },
   "outputs": [
    {
     "name": "stdout",
     "output_type": "stream",
     "text": [
      "2/2 [==============================] - 3s 1s/step - loss: 0.4772 - acc: 0.8814\n",
      "acc: 88.14%\n"
     ]
    }
   ],
   "source": [
    "scores = model.evaluate(x_val, y_val)\n",
    "print(\"%s: %.2f%%\" % (model.metrics_names[1], scores[1]*100))"
   ]
  },
  {
   "cell_type": "code",
   "execution_count": 21,
   "metadata": {
    "collapsed": false,
    "pycharm": {
     "name": "#%%\n"
    }
   },
   "outputs": [
    {
     "name": "stdout",
     "output_type": "stream",
     "text": [
      "4/4 - 3s - 3s/epoch - 798ms/step\n"
     ]
    },
    {
     "data": {
      "image/png": "[encoded data removed]",
      "text/plain": [
       "<Figure size 720x504 with 2 Axes>"
      ]
     },
     "metadata": {
      "needs_background": "light"
     },
     "output_type": "display_data"
    }
   ],
   "source": [
    "def print_confusion_matrix(confusion_matrix, class_names, figsize = (10,7), fontsize=14):\n",
    "\n",
    "    df_cm = pd.DataFrame(\n",
    "        confusion_matrix, index=class_names, columns=class_names,\n",
    "    )\n",
    "    fig = plt.figure(figsize=figsize)\n",
    "    try:\n",
    "        heatmap = sns.heatmap(df_cm, annot=True, fmt=\"d\")\n",
    "    except ValueError:\n",
    "        raise ValueError(\"Confusion matrix values must be integers.\")\n",
    "\n",
    "    heatmap.yaxis.set_ticklabels(heatmap.yaxis.get_ticklabels(), rotation=0, ha='right', fontsize=fontsize)\n",
    "    heatmap.xaxis.set_ticklabels(heatmap.xaxis.get_ticklabels(), rotation=45, ha='right', fontsize=fontsize)\n",
    "    plt.ylabel('True label')\n",
    "    plt.xlabel('Predicted label')\n",
    "\n",
    "def confusion_results(X_test, y_test, labels, model):\n",
    "        preds = model.predict(X_test,\n",
    "                                 batch_size=16,\n",
    "                                 verbose=2)\n",
    "        preds=preds.argmax(axis=1)\n",
    "        preds = preds.astype(int).flatten()\n",
    "        preds = (lb.inverse_transform((preds)))\n",
    "\n",
    "        actual = y_test.argmax(axis=1)\n",
    "        actual = actual.astype(int).flatten()\n",
    "        actual = (lb.inverse_transform((actual)))\n",
    "\n",
    "        classes = labels\n",
    "        classes.sort()\n",
    "\n",
    "        c = confusion_matrix(actual, preds)\n",
    "        print_confusion_matrix(c, class_names = classes)\n",
    "\n",
    "confusion_results(x_val, y_val, EMOVO_df.labels.unique(), model)"
   ]
  },
  {
   "cell_type": "markdown",
   "metadata": {
    "collapsed": false,
    "pycharm": {
     "name": "#%% md\n"
    }
   },
   "source": [
    "**FINAL RESULTS**"
   ]
  },
  {
   "cell_type": "markdown",
   "metadata": {
    "collapsed": false,
    "pycharm": {
     "name": "#%% md\n"
    }
   },
   "source": [
    "Metric: Accuracy\n",
    "\n",
    "**LSTM -> 67%**\n",
    "\n",
    "**BIDIRECTIONAL CLSTM -> 88%**\n",
    "\n",
    "Enjoy :)"
   ]
  },
  {
   "cell_type": "markdown",
   "metadata": {},
   "source": []
  }
 ],
 "metadata": {
  "interpreter": {
   "hash": "aee8b7b246df8f9039afb4144a1f6fd8d2ca17a180786b69acc140d282b71a49"
  },
  "kernelspec": {
   "display_name": "Python 3.8.6 64-bit",
   "language": "python",
   "name": "python3"
  },
  "language_info": {
   "codemirror_mode": {
    "name": "ipython",
    "version": 3
   },
   "file_extension": ".py",
   "mimetype": "text/x-python",
   "name": "python",
   "nbconvert_exporter": "python",
   "pygments_lexer": "ipython3",
   "version": "3.8.6"
  },
  "orig_nbformat": 4
 },
 "nbformat": 4,
 "nbformat_minor": 2
}
